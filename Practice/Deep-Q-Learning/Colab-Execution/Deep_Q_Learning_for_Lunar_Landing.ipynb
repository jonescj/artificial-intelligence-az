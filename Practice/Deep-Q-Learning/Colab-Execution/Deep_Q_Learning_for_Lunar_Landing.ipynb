{
  "cells": [
    {
      "cell_type": "markdown",
      "metadata": {
        "id": "LbZcI9ZXHl3a"
      },
      "source": [
        "# Deep Q-Learning for Lunar Landing"
      ]
    },
    {
      "cell_type": "markdown",
      "metadata": {
        "id": "E8yPRjteXgPb"
      },
      "source": [
        "## Part 0 - Installing the required packages and importing the libraries"
      ]
    },
    {
      "cell_type": "markdown",
      "metadata": {
        "id": "slEm5teGWjWU"
      },
      "source": [
        "### Installing Gymnasium"
      ]
    },
    {
      "cell_type": "code",
      "execution_count": 2,
      "metadata": {
        "id": "dbnq3XpoKa_7",
        "colab": {
          "base_uri": "https://localhost:8080/"
        },
        "outputId": "7ea65c57-9168-46b8-b70f-791a93b23b7d"
      },
      "outputs": [
        {
          "output_type": "stream",
          "name": "stdout",
          "text": [
            "Requirement already satisfied: gymnasium in /usr/local/lib/python3.10/dist-packages (0.29.1)\n",
            "Requirement already satisfied: numpy>=1.21.0 in /usr/local/lib/python3.10/dist-packages (from gymnasium) (1.25.2)\n",
            "Requirement already satisfied: cloudpickle>=1.2.0 in /usr/local/lib/python3.10/dist-packages (from gymnasium) (2.2.1)\n",
            "Requirement already satisfied: typing-extensions>=4.3.0 in /usr/local/lib/python3.10/dist-packages (from gymnasium) (4.12.2)\n",
            "Requirement already satisfied: farama-notifications>=0.0.1 in /usr/local/lib/python3.10/dist-packages (from gymnasium) (0.0.4)\n",
            "Requirement already satisfied: gymnasium[accept-rom-license,atari] in /usr/local/lib/python3.10/dist-packages (0.29.1)\n",
            "Requirement already satisfied: numpy>=1.21.0 in /usr/local/lib/python3.10/dist-packages (from gymnasium[accept-rom-license,atari]) (1.25.2)\n",
            "Requirement already satisfied: cloudpickle>=1.2.0 in /usr/local/lib/python3.10/dist-packages (from gymnasium[accept-rom-license,atari]) (2.2.1)\n",
            "Requirement already satisfied: typing-extensions>=4.3.0 in /usr/local/lib/python3.10/dist-packages (from gymnasium[accept-rom-license,atari]) (4.12.2)\n",
            "Requirement already satisfied: farama-notifications>=0.0.1 in /usr/local/lib/python3.10/dist-packages (from gymnasium[accept-rom-license,atari]) (0.0.4)\n",
            "Requirement already satisfied: shimmy[atari]<1.0,>=0.1.0 in /usr/local/lib/python3.10/dist-packages (from gymnasium[accept-rom-license,atari]) (0.2.1)\n",
            "Requirement already satisfied: autorom[accept-rom-license]~=0.4.2 in /usr/local/lib/python3.10/dist-packages (from gymnasium[accept-rom-license,atari]) (0.4.2)\n",
            "Requirement already satisfied: click in /usr/local/lib/python3.10/dist-packages (from autorom[accept-rom-license]~=0.4.2->gymnasium[accept-rom-license,atari]) (8.1.7)\n",
            "Requirement already satisfied: requests in /usr/local/lib/python3.10/dist-packages (from autorom[accept-rom-license]~=0.4.2->gymnasium[accept-rom-license,atari]) (2.31.0)\n",
            "Requirement already satisfied: tqdm in /usr/local/lib/python3.10/dist-packages (from autorom[accept-rom-license]~=0.4.2->gymnasium[accept-rom-license,atari]) (4.66.4)\n",
            "Requirement already satisfied: AutoROM.accept-rom-license in /usr/local/lib/python3.10/dist-packages (from autorom[accept-rom-license]~=0.4.2->gymnasium[accept-rom-license,atari]) (0.6.1)\n",
            "Requirement already satisfied: ale-py~=0.8.1 in /usr/local/lib/python3.10/dist-packages (from shimmy[atari]<1.0,>=0.1.0->gymnasium[accept-rom-license,atari]) (0.8.1)\n",
            "Requirement already satisfied: importlib-resources in /usr/local/lib/python3.10/dist-packages (from ale-py~=0.8.1->shimmy[atari]<1.0,>=0.1.0->gymnasium[accept-rom-license,atari]) (6.4.0)\n",
            "Requirement already satisfied: charset-normalizer<4,>=2 in /usr/local/lib/python3.10/dist-packages (from requests->autorom[accept-rom-license]~=0.4.2->gymnasium[accept-rom-license,atari]) (3.3.2)\n",
            "Requirement already satisfied: idna<4,>=2.5 in /usr/local/lib/python3.10/dist-packages (from requests->autorom[accept-rom-license]~=0.4.2->gymnasium[accept-rom-license,atari]) (3.7)\n",
            "Requirement already satisfied: urllib3<3,>=1.21.1 in /usr/local/lib/python3.10/dist-packages (from requests->autorom[accept-rom-license]~=0.4.2->gymnasium[accept-rom-license,atari]) (2.0.7)\n",
            "Requirement already satisfied: certifi>=2017.4.17 in /usr/local/lib/python3.10/dist-packages (from requests->autorom[accept-rom-license]~=0.4.2->gymnasium[accept-rom-license,atari]) (2024.6.2)\n",
            "Reading package lists... Done\n",
            "Building dependency tree... Done\n",
            "Reading state information... Done\n",
            "swig is already the newest version (4.0.2-1ubuntu1).\n",
            "0 upgraded, 0 newly installed, 0 to remove and 45 not upgraded.\n",
            "Requirement already satisfied: gymnasium[box2d] in /usr/local/lib/python3.10/dist-packages (0.29.1)\n",
            "Requirement already satisfied: numpy>=1.21.0 in /usr/local/lib/python3.10/dist-packages (from gymnasium[box2d]) (1.25.2)\n",
            "Requirement already satisfied: cloudpickle>=1.2.0 in /usr/local/lib/python3.10/dist-packages (from gymnasium[box2d]) (2.2.1)\n",
            "Requirement already satisfied: typing-extensions>=4.3.0 in /usr/local/lib/python3.10/dist-packages (from gymnasium[box2d]) (4.12.2)\n",
            "Requirement already satisfied: farama-notifications>=0.0.1 in /usr/local/lib/python3.10/dist-packages (from gymnasium[box2d]) (0.0.4)\n",
            "Requirement already satisfied: box2d-py==2.3.5 in /usr/local/lib/python3.10/dist-packages (from gymnasium[box2d]) (2.3.5)\n",
            "Requirement already satisfied: pygame>=2.1.3 in /usr/local/lib/python3.10/dist-packages (from gymnasium[box2d]) (2.5.2)\n",
            "Requirement already satisfied: swig==4.* in /usr/local/lib/python3.10/dist-packages (from gymnasium[box2d]) (4.2.1)\n"
          ]
        }
      ],
      "source": [
        "!pip install gymnasium\n",
        "!pip install \"gymnasium[atari, accept-rom-license]\"\n",
        "!apt-get install -y swig\n",
        "!pip install gymnasium[box2d]"
      ]
    },
    {
      "cell_type": "markdown",
      "metadata": {
        "id": "brqiMN3UW9T9"
      },
      "source": [
        "### Importing the libraries"
      ]
    },
    {
      "cell_type": "code",
      "execution_count": 3,
      "metadata": {
        "id": "mZaKXP_aMl9O"
      },
      "outputs": [],
      "source": [
        "import os\n",
        "import random\n",
        "import numpy as np\n",
        "import torch\n",
        "import torch.nn as nn\n",
        "import torch.optim as optim\n",
        "import torch.nn.functional as F\n",
        "import torch.autograd as autograd\n",
        "from torch.autograd import Variable\n",
        "from collections import deque, namedtuple"
      ]
    },
    {
      "cell_type": "markdown",
      "metadata": {
        "id": "EzlDKXvkXzGI"
      },
      "source": [
        "## Part 1 - Building the AI"
      ]
    },
    {
      "cell_type": "markdown",
      "metadata": {
        "id": "UtG6Zc83YYy3"
      },
      "source": [
        "### Creating the architecture of the Neural Network"
      ]
    },
    {
      "cell_type": "code",
      "source": [
        "class Network(nn.Module):\n",
        "  def __init__(self, state_size, action_size, seed = 42):\n",
        "    super(Network, self).__init__()\n",
        "    self.seed = torch.manual_seed(seed)\n",
        "    self.fc1 = nn.Linear(state_size, 64)\n",
        "    self.fc2 = nn.Linear(64, 64)\n",
        "    self.fc3 = nn.Linear(64, action_size)\n",
        "\n",
        "  def forward(self, state):\n",
        "    x = self.fc1(state)\n",
        "    x = F.relu(x)\n",
        "    x = self.fc2(x)\n",
        "    x = F.relu(x)\n",
        "    return self.fc3(x)"
      ],
      "metadata": {
        "id": "FM1Tv7yJLDwU"
      },
      "execution_count": 4,
      "outputs": []
    },
    {
      "cell_type": "markdown",
      "metadata": {
        "id": "UxVrBnFWZKb1"
      },
      "source": [
        "## Part 2 - Training the AI"
      ]
    },
    {
      "cell_type": "markdown",
      "metadata": {
        "id": "T364fz9qZb2j"
      },
      "source": [
        "### Setting up the environment"
      ]
    },
    {
      "cell_type": "code",
      "source": [
        "import gymnasium as gym\n",
        "\n",
        "env = gym.make('LunarLander-v2')\n",
        "state_shape = env.observation_space.shape\n",
        "state_size = env.observation_space.shape[0]\n",
        "number_actions = env.action_space.n\n",
        "print('State shape: ',state_shape)\n",
        "print('State size: ',state_size)\n",
        "print('Number of actions: ',number_actions)"
      ],
      "metadata": {
        "colab": {
          "base_uri": "https://localhost:8080/"
        },
        "id": "OuWLoYVpWyqp",
        "outputId": "951cbb7e-f6a0-4a1c-bdc3-fd30fb9b41ca"
      },
      "execution_count": 5,
      "outputs": [
        {
          "output_type": "stream",
          "name": "stdout",
          "text": [
            "State shape:  (8,)\n",
            "State size:  8\n",
            "Number of actions:  4\n"
          ]
        }
      ]
    },
    {
      "cell_type": "markdown",
      "metadata": {
        "id": "c_dZmOIvZgj-"
      },
      "source": [
        "### Initializing the hyperparameters"
      ]
    },
    {
      "cell_type": "code",
      "source": [
        "learning_rate = 5e-4\n",
        "mini_batch_size = 100\n",
        "discount_factor = 0.99 # gamma\n",
        "replay_buffer_size = int(1e5) # memery of the AI\n",
        "interpolation_parameter = 1e-3 #tau"
      ],
      "metadata": {
        "id": "21g6cSodX-tz"
      },
      "execution_count": 6,
      "outputs": []
    },
    {
      "cell_type": "markdown",
      "metadata": {
        "id": "8hD_Vs-bYnip"
      },
      "source": [
        "### Implementing Experience Replay"
      ]
    },
    {
      "cell_type": "code",
      "source": [
        "class ReplayMemory(object):\n",
        "  def __init__(self, capacity):\n",
        "    self.device = torch.device(\"cuda:0\" if torch.cuda.is_available() else \"cpu\")\n",
        "    self.capacity = capacity # maximum size of memory buffer\n",
        "    self.memory = []\n",
        "\n",
        "  def push(self, event):\n",
        "    self.memory.append(event)\n",
        "    if len(self.memory) > self.capacity:\n",
        "      del self.memory[0]\n",
        "\n",
        "  def sample(self, batch_size):\n",
        "    experiences = random.sample(self.memory, k = batch_size)\n",
        "    states = torch.from_numpy(np.vstack([e[0] for e in experiences if e is not None])).float().to(self.device)\n",
        "    actions = torch.from_numpy(np.vstack([e[1] for e in experiences if e is not None])).long().to(self.device)\n",
        "    rewards = torch.from_numpy(np.vstack([e[2] for e in experiences if e is not None])).float().to(self.device)\n",
        "    next_states = torch.from_numpy(np.vstack([e[3] for e in experiences if e is not None])).float().to(self.device)\n",
        "    dones = torch.from_numpy(np.vstack([e[4] for e in experiences if e is not None]).astype(np.uint8)).float().to(self.device)\n",
        "    return states, next_states, actions, rewards, dones"
      ],
      "metadata": {
        "id": "Cy4HIQAQaI9Z"
      },
      "execution_count": 7,
      "outputs": []
    },
    {
      "cell_type": "markdown",
      "metadata": {
        "id": "JmEkbFbUY6Jt"
      },
      "source": [
        "### Implementing the DQN class"
      ]
    },
    {
      "cell_type": "code",
      "source": [
        "class Agent():\n",
        "  def __init__(self, state_size, action_size):\n",
        "    self.device = torch.device(\"cuda:0\" if torch.cuda.is_available() else \"cpu\")\n",
        "    self.state_size = state_size\n",
        "    self.action_size = action_size\n",
        "    self.local_qnetwork = Network(state_size, action_size).to(self.device)\n",
        "    self.target_qnetwork = Network(state_size, action_size).to(self.device)\n",
        "    self.optimizer = optim.Adam(self.local_qnetwork.parameters(), lr = learning_rate)\n",
        "    self.memory = ReplayMemory(replay_buffer_size)\n",
        "    self.t_step = 0\n",
        "\n",
        "  def step(self, state, action, reward, next_state, done):\n",
        "    self.memory.push((state, action, reward, next_state, done))\n",
        "    self.t_step = (self.t_step + 1) % 4\n",
        "    if self.t_step == 0:\n",
        "      if len(self.memory.memory) > mini_batch_size:\n",
        "        experiences = self.memory.sample(100)\n",
        "        self.learn(experiences, discount_factor)\n",
        "\n",
        "  def act(self, state, epsilon = 0.):\n",
        "    state = torch.from_numpy(state).float().unsqueeze(0).to(self.device)\n",
        "    self.local_qnetwork.eval()\n",
        "    with torch.no_grad():\n",
        "      action_values = self.local_qnetwork(state)\n",
        "    self.local_qnetwork.train()\n",
        "    if random.random() > epsilon:\n",
        "      return np.argmax(action_values.cpu().data.numpy())\n",
        "    else:\n",
        "      return random.choice(np.arange(self.action_size))\n",
        "\n",
        "  def learn(self, experiences, discount_factor):\n",
        "    states, next_states, actions, rewards, dones = experiences\n",
        "    next_q_targets = self.target_qnetwork(next_states).detach().max(1)[0].unsqueeze(1)\n",
        "    q_targets = rewards + (discount_factor * next_q_targets * (1 - dones))\n",
        "    q_expected = self.local_qnetwork(states).gather(1, actions)\n",
        "    loss = F.mse_loss(q_expected, q_targets)\n",
        "    self.optimizer.zero_grad()\n",
        "    loss.backward()\n",
        "    self.optimizer.step()\n",
        "    self.soft_update(self.local_qnetwork, self.target_qnetwork, interpolation_parameter)\n",
        "\n",
        "  def soft_update(self, local_model, target_model, interpolation_parameter):\n",
        "    for target_param, local_param in zip(target_model.parameters(), local_model.parameters()):\n",
        "      target_param.data.copy_(interpolation_parameter * local_param.data + (1.0 - interpolation_parameter) * target_param.data)\n"
      ],
      "metadata": {
        "id": "7IjXU51eeRbo"
      },
      "execution_count": 19,
      "outputs": []
    },
    {
      "cell_type": "markdown",
      "metadata": {
        "id": "o1tZElccZmf6"
      },
      "source": [
        "### Initializing the DQN agent"
      ]
    },
    {
      "cell_type": "code",
      "source": [
        "agent = Agent(state_size, number_actions)"
      ],
      "metadata": {
        "id": "2Z9smXpLf4Hc"
      },
      "execution_count": 20,
      "outputs": []
    },
    {
      "cell_type": "markdown",
      "metadata": {
        "id": "E8v0PtUfaVQp"
      },
      "source": [
        "### Training the DQN agent"
      ]
    },
    {
      "cell_type": "code",
      "source": [
        "number_episodes = 2000\n",
        "maximum_number_timesteps_per_episode = 1000\n",
        "epsilon_starting_value = 1.0\n",
        "epsilon_ending_value = 0.01\n",
        "epsilon_decay_value = 0.995\n",
        "epsilon = epsilon_starting_value\n",
        "scores_on_100_episodes = deque(maxlen = 100)\n",
        "\n",
        "for episode in range(1, number_episodes+1):\n",
        "  state, _ = env.reset()\n",
        "  score = 0\n",
        "  for t in range(maximum_number_timesteps_per_episode):\n",
        "    action = agent.act(state, epsilon)\n",
        "    next_state, reward, done, _, _ = env.step(action)\n",
        "    agent.step(state, action, reward, next_state, done)\n",
        "    state = next_state\n",
        "    score += reward\n",
        "    if done:\n",
        "      break\n",
        "  scores_on_100_episodes.append(score)\n",
        "  epsilon = max(epsilon_ending_value, epsilon_decay_value * epsilon)\n",
        "  print('\\rEpisode {}\\tAverage Score: {:.2f}'.format(episode, np.mean(scores_on_100_episodes)), end = \"\")\n",
        "  if episode % 100 == 0:\n",
        "    print('\\rEpisode {}\\tAverage Score: {:.2f}'.format(episode, np.mean(scores_on_100_episodes)))\n",
        "  if np.mean(scores_on_100_episodes) >= 200.0:\n",
        "    print('\\nEnvironment solved in {:d} episodes!\\tAverage Score: {:.2f}'.format(episode - 100, np.mean(scores_on_100_episodes)))\n",
        "    torch.save(agent.local_qnetwork.state_dict(), 'checkpoint.pth')\n",
        "    break\n"
      ],
      "metadata": {
        "colab": {
          "base_uri": "https://localhost:8080/"
        },
        "id": "6NKPrAUD7h8d",
        "outputId": "9801b587-4951-4567-9fc9-a54872813216"
      },
      "execution_count": 30,
      "outputs": [
        {
          "output_type": "stream",
          "name": "stdout",
          "text": [
            "Episode 100\tAverage Score: -97.64\n",
            "Episode 200\tAverage Score: -0.16\n",
            "Episode 300\tAverage Score: 99.42\n",
            "Episode 400\tAverage Score: 190.32\n",
            "Episode 416\tAverage Score: 200.46\n",
            "Environment solved in 316 episodes!\tAverage Score: 200.46\n"
          ]
        }
      ]
    },
    {
      "cell_type": "markdown",
      "metadata": {
        "id": "O8CNwdOTcCoP"
      },
      "source": [
        "## Part 3 - Visualizing the results"
      ]
    },
    {
      "cell_type": "code",
      "execution_count": 31,
      "metadata": {
        "id": "cb9nVvU2Okhk",
        "colab": {
          "base_uri": "https://localhost:8080/",
          "height": 459
        },
        "outputId": "5c97e7b4-e343-4ad6-e326-b1dc528a1723"
      },
      "outputs": [
        {
          "output_type": "stream",
          "name": "stderr",
          "text": [
            "WARNING:imageio_ffmpeg:IMAGEIO FFMPEG_WRITER WARNING: input image is not divisible by macro_block_size=16, resizing from (600, 400) to (608, 400) to ensure video compatibility with most codecs and players. To prevent resizing, make your input image divisible by the macro_block_size or set the macro_block_size to 1 (risking incompatibility).\n"
          ]
        },
        {
          "output_type": "display_data",
          "data": {
            "text/plain": [
              "<IPython.core.display.HTML object>"
            ],
            "text/html": [
              "<video alt=\"test\" autoplay\n",
              "                loop controls style=\"height: 400px;\">\n",
              "                <source src=\"data:video/mp4;base64,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\" type=\"video/mp4\" />\n",
              "             </video>"
            ]
          },
          "metadata": {}
        }
      ],
      "source": [
        "import glob\n",
        "import io\n",
        "import base64\n",
        "import imageio\n",
        "from IPython.display import HTML, display\n",
        "from gym.wrappers.monitoring.video_recorder import VideoRecorder\n",
        "\n",
        "def show_video_of_model(agent, env_name):\n",
        "    env = gym.make(env_name, render_mode='rgb_array')\n",
        "    state, _ = env.reset()\n",
        "    done = False\n",
        "    frames = []\n",
        "    while not done:\n",
        "        frame = env.render()\n",
        "        frames.append(frame)\n",
        "        action = agent.act(state)\n",
        "        state, reward, done, _, _ = env.step(action.item())\n",
        "    env.close()\n",
        "    imageio.mimsave('video.mp4', frames, fps=30)\n",
        "\n",
        "show_video_of_model(agent, 'LunarLander-v2')\n",
        "\n",
        "def show_video():\n",
        "    mp4list = glob.glob('*.mp4')\n",
        "    if len(mp4list) > 0:\n",
        "        mp4 = mp4list[0]\n",
        "        video = io.open(mp4, 'r+b').read()\n",
        "        encoded = base64.b64encode(video)\n",
        "        display(HTML(data='''<video alt=\"test\" autoplay\n",
        "                loop controls style=\"height: 400px;\">\n",
        "                <source src=\"data:video/mp4;base64,{0}\" type=\"video/mp4\" />\n",
        "             </video>'''.format(encoded.decode('ascii'))))\n",
        "    else:\n",
        "        print(\"Could not find video\")\n",
        "\n",
        "show_video()"
      ]
    }
  ],
  "metadata": {
    "colab": {
      "provenance": []
    },
    "kernelspec": {
      "display_name": "Python 3",
      "name": "python3"
    },
    "language_info": {
      "name": "python"
    }
  },
  "nbformat": 4,
  "nbformat_minor": 0
}